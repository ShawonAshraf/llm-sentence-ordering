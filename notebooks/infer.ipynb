{
 "cells": [
  {
   "cell_type": "code",
   "execution_count": null,
   "metadata": {},
   "outputs": [],
   "source": [
    "import os\n",
    "from openai import OpenAI\n",
    "from dotenv import load_dotenv\n",
    "from datasets import load_dataset, Dataset\n",
    "from tqdm.auto import tqdm\n",
    "import instructor\n",
    "from pydantic import BaseModel, Field\n",
    "from typing import List\n",
    "import wandb\n",
    "\n",
    "load_dotenv(override=True)"
   ]
  },
  {
   "cell_type": "code",
   "execution_count": null,
   "metadata": {},
   "outputs": [],
   "source": [
    "def format_inputs(ds: Dataset) -> List[str]:\n",
    "    formatted_inputs = []\n",
    "    for _, data in tqdm(enumerate(ds)):\n",
    "        ins = \"\"\n",
    "        for idx, sent in enumerate(data[\"shuffled_sentences\"]):\n",
    "            ins += f\"{idx}. {sent}\\n\"\n",
    "        formatted_inputs.append(ins)\n",
    "        \n",
    "    return formatted_inputs"
   ]
  },
  {
   "cell_type": "code",
   "execution_count": null,
   "metadata": {},
   "outputs": [],
   "source": [
    "class PredictionResult(BaseModel):\n",
    "    predicted_order: List[int] = Field(\n",
    "        \"A list of integers in the range 0 upto 4, which contains the serial numbers of sentences in the correct order.\")"
   ]
  },
  {
   "cell_type": "code",
   "execution_count": null,
   "metadata": {},
   "outputs": [],
   "source": [
    "def predict(\n",
    "    client, \n",
    "    inp, \n",
    "    model_name=\"meta-llama/Meta-Llama-3.1-8B-Instruct\"\n",
    ") -> PredictionResult:\n",
    "    system_message = \"\"\"\n",
    "    You are given 5 sentences from a story in a shuffled order. \n",
    "    Each sentence has a serial number assoiciated with it. \n",
    "    You can find the serial number at the beginning of each sentence, for example: 0. <sentence>.\n",
    "    The serial numbers start from 0 and ends at 4.\n",
    "    Your task is to predict the correct order of sentences which would resemble the original story and then return the serial numbers as a list of integers, which contain the serial numbers.\n",
    "\n",
    "    #IMPORTANT\n",
    "    There are exactly five sentences. \n",
    "    \"\"\"\n",
    "    \n",
    "    res = client.chat.completions.create(\n",
    "        model=model_name,\n",
    "        messages=[\n",
    "            {\"role\": \"system\", \"content\": system_message},\n",
    "            {\"role\": \"user\", \"content\": inp}\n",
    "        ],\n",
    "        temperature=0.0,\n",
    "        response_model=PredictionResult,\n",
    "    )\n",
    "    \n",
    "    return res\n",
    "\n",
    "def batch_predict(ds: Dataset) -> List[PredictionResult]:\n",
    "    client = instructor.from_openai(OpenAI(\n",
    "        api_key=\"token-abc123\",\n",
    "        base_url=os.getenv(\"VLLM_ENDPOINT_URL\")\n",
    "    ))\n",
    "    \n",
    "    predicted = list()\n",
    "    formatted_inputs = format_inputs(ds)\n",
    "    \n",
    "    for _, inp in tqdm(enumerate(formatted_inputs)):\n",
    "        res = predict(client, inp)\n",
    "        predicted.append(res)\n",
    "        \n",
    "    return predicted"
   ]
  },
  {
   "cell_type": "code",
   "execution_count": null,
   "metadata": {},
   "outputs": [],
   "source": [
    "from scipy.stats import kendalltau\n",
    "\n",
    "def overlapping_accuracy(gold, predicted):\n",
    "    assert len(gold) == len(predicted)\n",
    "\n",
    "    overlaps = 0\n",
    "    for idx in range(len(gold)):\n",
    "        if gold[idx] == predicted[idx]:\n",
    "            overlaps += 1\n",
    "\n",
    "    return overlaps / len(gold)\n",
    "\n",
    "\n",
    "# https://docs.scipy.org/doc/scipy/reference/generated/scipy.stats.kendalltau.html\n",
    "\n",
    "def evaluate(gold: List[int], predicted: List[int]):\n",
    "    tau = kendalltau(x=gold, y=predicted)\n",
    "    acc = overlapping_accuracy(gold, predicted)\n",
    "    \n",
    "    return {\n",
    "        \"tau_stat\": tau.statistic,\n",
    "        \"tau_p\": tau.pvalue,\n",
    "        \"correlation\": tau.correlation,\n",
    "        \"overlap_accuracy\": acc,\n",
    "    }"
   ]
  },
  {
   "cell_type": "code",
   "execution_count": null,
   "metadata": {},
   "outputs": [],
   "source": [
    "from loguru import logger\n",
    "\n",
    "\n",
    "def run(\n",
    "    dataset_size: int = 2, \n",
    "    model_name: str = \"meta-llama/Meta-Llama-3.1-8B-Instruct\"\n",
    "):\n",
    "    # prepare wandb run\n",
    "    logger.info(\"Preparing Wandb Init\")\n",
    "    wandb.init(\n",
    "        project=\"llm-sentence-ordering\",\n",
    "        config= {\n",
    "            \"model_name\": model_name,\n",
    "            \"dataset_size\": dataset_size\n",
    "        },\n",
    "        name=\"meta-llama/Meta-Llama-3.1-8B-Instruct\",\n",
    "    )\n",
    "    \n",
    "    logger.info(f\"Model: {model_name} :: Dataset Size: {dataset_size}\")\n",
    "    \n",
    "    logger.info(\"Loading dataset\")\n",
    "    ds = load_dataset(os.getenv(\"HF_HUB_DATASET_NAME\"))\n",
    "    sampled_ds = ds[\"train\"].select(range(dataset_size))\n",
    "    \n",
    "    gold = [data[\"gold_order\"] for data in sampled_ds]\n",
    "    llm_pred_results = batch_predict(sampled_ds)\n",
    "    \n",
    "    logger.info(\"Running Prediction\")\n",
    "    predicted = [p.predicted_order for p in llm_pred_results]\n",
    "    \n",
    "    logger.info(\"Evaluating\")\n",
    "    eval_results = evaluate(gold, predicted)\n",
    "    \n",
    "    \n",
    "    logger.info(\"Logging results\")\n",
    "    wandb.log(eval_results)\n",
    "    wandb.finish()"
   ]
  },
  {
   "cell_type": "code",
   "execution_count": null,
   "metadata": {},
   "outputs": [],
   "source": [
    "run()"
   ]
  },
  {
   "cell_type": "code",
   "execution_count": null,
   "metadata": {},
   "outputs": [],
   "source": []
  }
 ],
 "metadata": {
  "kernelspec": {
   "display_name": "Python 3 (ipykernel)",
   "language": "python",
   "name": "python3"
  },
  "language_info": {
   "codemirror_mode": {
    "name": "ipython",
    "version": 3
   },
   "file_extension": ".py",
   "mimetype": "text/x-python",
   "name": "python",
   "nbconvert_exporter": "python",
   "pygments_lexer": "ipython3",
   "version": "3.12.3"
  }
 },
 "nbformat": 4,
 "nbformat_minor": 4
}
