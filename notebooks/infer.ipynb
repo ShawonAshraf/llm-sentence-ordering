{
 "cells": [
  {
   "cell_type": "code",
   "execution_count": 1,
   "metadata": {},
   "outputs": [],
   "source": [
    "import os\n",
    "from pathlib import Path\n",
    "from openai import OpenAI, AsyncOpenAI\n",
    "from dotenv import load_dotenv\n",
    "from datasets import load_dataset, Dataset\n",
    "\n",
    "import nest_asyncio\n",
    "nest_asyncio.apply()"
   ]
  },
  {
   "cell_type": "code",
   "execution_count": 2,
   "metadata": {},
   "outputs": [],
   "source": [
    "dataset_name = load_dataset(os.getenv(\"HF_HUB_DATASET_NAME\"))\n",
    "assert dataset_name"
   ]
  },
  {
   "cell_type": "code",
   "execution_count": 3,
   "metadata": {},
   "outputs": [
    {
     "data": {
      "text/plain": [
       "2"
      ]
     },
     "execution_count": 3,
     "metadata": {},
     "output_type": "execute_result"
    }
   ],
   "source": [
    "# select the first 32 examples\n",
    "sampled_dataset = dataset_name['train'].select(range(2))\n",
    "len(sampled_dataset)"
   ]
  },
  {
   "cell_type": "code",
   "execution_count": 13,
   "metadata": {},
   "outputs": [],
   "source": [
    "system_message = \"\"\"\n",
    "You are given 5 sentences from a story in a shuffled order. \n",
    "Each sentence has a serial number assoiciated with it. \n",
    "You can find the serial number at the beginning of each sentence, for example: 1. <sentence>.\n",
    "Your task is to predict the correct order of sentences which would resemble the original story and then return the serial numbers as a comma separated string.\n",
    "\n",
    "#IMPORTANT\n",
    "There are exactly five sentences.\n",
    "You should only return the serial numbers as a comma separated string.\n",
    "\"\"\"\n",
    "\n",
    "client = AsyncOpenAI(\n",
    "    api_key=\"token-abc123\",\n",
    "    base_url=os.getenv(\"VLLM_ENDPOINT_URL\")\n",
    ")"
   ]
  },
  {
   "cell_type": "code",
   "execution_count": 8,
   "metadata": {},
   "outputs": [
    {
     "data": {
      "application/vnd.jupyter.widget-view+json": {
       "model_id": "2c14412f1e4c4a62afcc6af42337a8a6",
       "version_major": 2,
       "version_minor": 0
      },
      "text/plain": [
       "0it [00:00, ?it/s]"
      ]
     },
     "metadata": {},
     "output_type": "display_data"
    }
   ],
   "source": [
    "from tqdm.auto import tqdm\n",
    "\n",
    "\n",
    "for _, data in tqdm(enumerate(sampled_dataset)):\n",
    "    formatted_inputs = []\n",
    "    for idx, sent in enumerate(data[\"shuffled_sentences\"]):\n",
    "        formatted_inputs.append( f\"{idx + 1}. {sent}\")\n",
    "    "
   ]
  },
  {
   "cell_type": "code",
   "execution_count": 14,
   "metadata": {},
   "outputs": [
    {
     "data": {
      "text/plain": [
       "ChatCompletion(id='chat-5fdd157dd0364f3bbe5333132c599e0b', choices=[Choice(finish_reason='stop', index=0, logprobs=None, message=ChatCompletionMessage(content=\"Based on the given sentence, it appears that the story is about Carrie, a character who enjoys riding a bike. \\n\\nA possible order for the story could be:\\n\\n- 1. Carrie would sneak rides on her sister's bike.\\n- 2. Her sister, who was a bit older, had just learned how to ride a bike herself.\\n- 3. The sister was not too keen on Carrie using her bike, but Carrie's enthusiasm was hard to resist.\\n- 4. One day, Carrie decided to take her sister's bike for a longer ride than usual.\\n- 5. As she rode further and further away from home, Carrie began to feel a sense of freedom she had never experienced before.\\n\\nSo, the serial numbers in the correct order are: 1, 2, 3, 4, 5\", role='assistant', function_call=None, tool_calls=[]), stop_reason=None)], created=1722345356, model='meta-llama/Meta-Llama-3.1-8B-Instruct', object='chat.completion', system_fingerprint=None, usage=CompletionUsage(completion_tokens=171, prompt_tokens=148, total_tokens=319))"
      ]
     },
     "execution_count": 14,
     "metadata": {},
     "output_type": "execute_result"
    }
   ],
   "source": [
    "response =  await client.chat.completions.create(\n",
    "    model=\"meta-llama/Meta-Llama-3.1-8B-Instruct\",\n",
    "    messages=[\n",
    "        {\"role\": \"system\", \"content\": system_message},\n",
    "        {\"role\": \"user\", \"content\": formatted_inputs[0]}\n",
    "    ],\n",
    "    temperature=0.0,\n",
    ")\n",
    "\n",
    "response"
   ]
  },
  {
   "cell_type": "code",
   "execution_count": 15,
   "metadata": {},
   "outputs": [
    {
     "data": {
      "text/plain": [
       "\"Based on the given sentence, it appears that the story is about Carrie, a character who enjoys riding a bike. \\n\\nA possible order for the story could be:\\n\\n- 1. Carrie would sneak rides on her sister's bike.\\n- 2. Her sister, who was a bit older, had just learned how to ride a bike herself.\\n- 3. The sister was not too keen on Carrie using her bike, but Carrie's enthusiasm was hard to resist.\\n- 4. One day, Carrie decided to take her sister's bike for a longer ride than usual.\\n- 5. As she rode further and further away from home, Carrie began to feel a sense of freedom she had never experienced before.\\n\\nSo, the serial numbers in the correct order are: 1, 2, 3, 4, 5\""
      ]
     },
     "execution_count": 15,
     "metadata": {},
     "output_type": "execute_result"
    }
   ],
   "source": [
    "response.choices[0].message.content"
   ]
  },
  {
   "cell_type": "code",
   "execution_count": null,
   "metadata": {},
   "outputs": [],
   "source": []
  }
 ],
 "metadata": {
  "kernelspec": {
   "display_name": "Python 3 (ipykernel)",
   "language": "python",
   "name": "python3"
  },
  "language_info": {
   "codemirror_mode": {
    "name": "ipython",
    "version": 3
   },
   "file_extension": ".py",
   "mimetype": "text/x-python",
   "name": "python",
   "nbconvert_exporter": "python",
   "pygments_lexer": "ipython3",
   "version": "3.12.3"
  }
 },
 "nbformat": 4,
 "nbformat_minor": 4
}
